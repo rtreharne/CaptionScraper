{
 "cells": [
  {
   "cell_type": "code",
   "execution_count": 1,
   "metadata": {},
   "outputs": [],
   "source": [
    "from canvasapi import Canvas"
   ]
  },
  {
   "cell_type": "code",
   "execution_count": 2,
   "metadata": {},
   "outputs": [],
   "source": [
    "from config import CANVAS_TOKEN, CANVAS_URL, course_id, assignment_id"
   ]
  },
  {
   "cell_type": "code",
   "execution_count": 3,
   "metadata": {},
   "outputs": [],
   "source": [
    "canvas = Canvas(CANVAS_URL, CANVAS_TOKEN)"
   ]
  },
  {
   "cell_type": "code",
   "execution_count": 5,
   "metadata": {},
   "outputs": [],
   "source": [
    "submissions = [x for x in canvas.get_course(course_id).get_assignment(assignment_id).get_submissions(include=['user', 'rubric_assessment'])]"
   ]
  },
  {
   "cell_type": "code",
   "execution_count": 6,
   "metadata": {},
   "outputs": [],
   "source": [
    "student_id = 136794"
   ]
  },
  {
   "cell_type": "code",
   "execution_count": 7,
   "metadata": {},
   "outputs": [],
   "source": [
    "def get_submission_by_student_id(submissions, student_id):\n",
    "    for submission in submissions:\n",
    "        if submission.user_id == student_id:\n",
    "            return submission\n",
    "    return None"
   ]
  },
  {
   "cell_type": "code",
   "execution_count": 8,
   "metadata": {},
   "outputs": [],
   "source": [
    "sub = get_submission_by_student_id(submissions, student_id)"
   ]
  },
  {
   "cell_type": "code",
   "execution_count": 9,
   "metadata": {},
   "outputs": [
    {
     "data": {
      "text/plain": [
       "{'_5837': {'rating_id': '_4840', 'comments': '', 'points': 13.5},\n",
       " '_2216': {'rating_id': None, 'comments': '', 'points': 10.0},\n",
       " '_3443': {'rating_id': None, 'comments': '', 'points': 7.5},\n",
       " '_1667': {'rating_id': '_1401', 'comments': '', 'points': 5.5},\n",
       " '_5332': {'rating_id': '_9561', 'comments': '', 'points': 8.25},\n",
       " '_6099': {'rating_id': '_748', 'comments': '', 'points': 2.25},\n",
       " '_4711': {'rating_id': '_6377', 'comments': '', 'points': 2.75},\n",
       " '15370_5795': {'rating_id': '15370_7812', 'comments': '', 'points': 0.0}}"
      ]
     },
     "execution_count": 9,
     "metadata": {},
     "output_type": "execute_result"
    }
   ],
   "source": [
    "sub.rubric_assessment"
   ]
  },
  {
   "cell_type": "code",
   "execution_count": null,
   "metadata": {},
   "outputs": [],
   "source": []
  }
 ],
 "metadata": {
  "kernelspec": {
   "display_name": "Python 3",
   "language": "python",
   "name": "python3"
  },
  "language_info": {
   "codemirror_mode": {
    "name": "ipython",
    "version": 3
   },
   "file_extension": ".py",
   "mimetype": "text/x-python",
   "name": "python",
   "nbconvert_exporter": "python",
   "pygments_lexer": "ipython3",
   "version": "3.12.0"
  }
 },
 "nbformat": 4,
 "nbformat_minor": 2
}
