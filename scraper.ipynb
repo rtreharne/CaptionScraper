{
 "cells": [
  {
   "cell_type": "code",
   "execution_count": 3,
   "metadata": {},
   "outputs": [],
   "source": [
    "from utils import CanvasSession\n",
    "from selenium.webdriver.common.by import By\n",
    "from canvasapi import Canvas\n",
    "from config import *\n",
    "import time\n",
    "import pickle\n",
    "\n",
    "# import beautifulsoup\n",
    "from bs4 import BeautifulSoup\n",
    "\n",
    "canvas = Canvas(CANVAS_URL, CANVAS_TOKEN)"
   ]
  },
  {
   "cell_type": "code",
   "execution_count": 9,
   "metadata": {},
   "outputs": [],
   "source": [
    "# Get submissions and grade centre urls\n",
    "submissions = [x for x in canvas.get_course(course_id).get_assignment(assignment_id).get_submissions(include=[\"user\", \"submission_comments\"]) if x.workflow_state != \"unsubmitted\"]\n",
    "urls = [f\"{CANVAS_URL}/courses/{course_id}/gradebook/speed_grader?assignment_id={assignment_id}&student_id={x.user_id}\" for x in submissions]"
   ]
  },
  {
   "cell_type": "code",
   "execution_count": 13,
   "metadata": {},
   "outputs": [
    {
     "name": "stdout",
     "output_type": "stream",
     "text": [
      "wait ...\n",
      "Verification code for DUO\n",
      "4233\n",
      "You have 1 seconds to enter your verification code..\n",
      "Login Success.\n"
     ]
    }
   ],
   "source": [
    "# Login to Canvas\n",
    "session = CanvasSession()"
   ]
  },
  {
   "cell_type": "code",
   "execution_count": 14,
   "metadata": {},
   "outputs": [
    {
     "data": {
      "text/plain": [
       "<utils.CanvasSession at 0x226d5e8f7d0>"
      ]
     },
     "execution_count": 14,
     "metadata": {},
     "output_type": "execute_result"
    }
   ],
   "source": [
    "session"
   ]
  },
  {
   "cell_type": "code",
   "execution_count": 18,
   "metadata": {},
   "outputs": [],
   "source": [
    "# This function gets the annotations\n",
    "def get_annotations(session, url):\n",
    "\n",
    "    session.browser.get(url)\n",
    "    print(session.browser.current_url)\n",
    "    wait = 0\n",
    "    while True:\n",
    "        print(\"Loading ...\")\n",
    "        try:\n",
    "            session.browser.switch_to.frame('speedgrader_iframe')\n",
    "            print(\"Switching to iframe\")\n",
    "            time.sleep(5)\n",
    "\n",
    "            annotations = []\n",
    "\n",
    "            html_string = session.browser.page_source\n",
    "            soup = BeautifulSoup(html_string, 'html.parser')\n",
    "            annotation_authors = soup.find_all('div', {'class': 'ScreenreaderAnnotation-author'})\n",
    "            annotation_comments = soup.find_all('div', {'class': 'ScreenreaderAnnotation-root-comment'})\n",
    "\n",
    "            for author, annotation in zip(annotation_authors, annotation_comments):\n",
    "                comment = {\n",
    "                    \"author\": author.get_text().split(\":\")[-1],\n",
    "                    \"comment\": annotation.get_text().split(\":\")[-1],\n",
    "                    \"type\": \"annotation\"\n",
    "                }\n",
    "\n",
    "                annotations.append(comment)\n",
    "                  \n",
    "            session.browser.switch_to.default_content()\n",
    "            print(\"Switching to default content\")\n",
    "            break\n",
    "        except:\n",
    "            if wait > 20:\n",
    "                annotations = []\n",
    "                break\n",
    "            else:\n",
    "                time.sleep(2)\n",
    "                wait += 2\n",
    "                continue\n",
    "\n",
    "    return annotations    "
   ]
  },
  {
   "cell_type": "code",
   "execution_count": 19,
   "metadata": {},
   "outputs": [
    {
     "data": {
      "text/plain": [
       "'https://canvas.liverpool.ac.uk/courses/69023/gradebook/speed_grader?assignment_id=256081&student_id=55719'"
      ]
     },
     "execution_count": 19,
     "metadata": {},
     "output_type": "execute_result"
    }
   ],
   "source": [
    "urls[10]"
   ]
  },
  {
   "cell_type": "code",
   "execution_count": 22,
   "metadata": {},
   "outputs": [
    {
     "name": "stdout",
     "output_type": "stream",
     "text": [
      "https://canvas.liverpool.ac.uk/courses/69023/gradebook/speed_grader?assignment_id=256081&student_id=55719\n",
      "Loading ...\n",
      "Loading ...\n",
      "Loading ...\n",
      "Loading ...\n",
      "Loading ...\n",
      "Loading ...\n",
      "Loading ...\n",
      "Loading ...\n",
      "Loading ...\n",
      "Loading ...\n",
      "Loading ...\n",
      "Loading ...\n",
      "Switching to iframe\n",
      "Switching to default content\n"
     ]
    }
   ],
   "source": [
    "test = get_annotations(session, urls[10])"
   ]
  },
  {
   "cell_type": "code",
   "execution_count": 23,
   "metadata": {},
   "outputs": [
    {
     "data": {
      "text/plain": [
       "[{'author': 'Antonius Plagge',\n",
       "  'comment': 'very good, important points',\n",
       "  'type': 'annotation'},\n",
       " {'author': 'Antonius Plagge',\n",
       "  'comment': 'Good introduction. You could have more clearly stated you personal opinion on the question, since this is an essay, which reflects a personal view or opinion that your are arguing for in the following sections (in contrast to a balanced scientific report that simply summaries data). ',\n",
       "  'type': 'annotation'},\n",
       " {'author': 'Antonius Plagge',\n",
       "  'comment': 'Shreiner et al., 2015 (more than 2 authors)',\n",
       "  'type': 'annotation'},\n",
       " {'author': 'Antonius Plagge',\n",
       "  'comment': 'well written section',\n",
       "  'type': 'annotation'},\n",
       " {'author': 'Antonius Plagge',\n",
       "  'comment': 'there should be a reference at the end of this sentence',\n",
       "  'type': 'annotation'},\n",
       " {'author': 'Antonius Plagge',\n",
       "  'comment': 'difficult to read the small print / low image resolution',\n",
       "  'type': 'annotation'},\n",
       " {'author': 'Antonius Plagge',\n",
       "  'comment': 'yes, important point here. ',\n",
       "  'type': 'annotation'},\n",
       " {'author': 'Antonius Plagge',\n",
       "  'comment': 'is an essential..',\n",
       "  'type': 'annotation'},\n",
       " {'author': 'Antonius Plagge',\n",
       "  'comment': 'ok, you are taking a position here for a cautious approach. ',\n",
       "  'type': 'annotation'}]"
      ]
     },
     "execution_count": 23,
     "metadata": {},
     "output_type": "execute_result"
    }
   ],
   "source": [
    "test"
   ]
  },
  {
   "cell_type": "code",
   "execution_count": 12,
   "metadata": {},
   "outputs": [
    {
     "name": "stderr",
     "output_type": "stream",
     "text": [
      "  0%|          | 0/425 [00:00<?, ?it/s]"
     ]
    },
    {
     "name": "stdout",
     "output_type": "stream",
     "text": [
      "https://canvas.liverpool.ac.uk/courses/71993/gradebook/speed_grader?assignment_id=261378&student_id=54716\n",
      "McCormack, Carl\n"
     ]
    },
    {
     "name": "stderr",
     "output_type": "stream",
     "text": [
      "  2%|▏         | 10/425 [00:42<29:14,  4.23s/it]"
     ]
    },
    {
     "name": "stdout",
     "output_type": "stream",
     "text": [
      "{'sortable_name': 'McCormack, Carl', 'score': 10.0, 'annotations': [], 'submission_comments': []}\n",
      "https://canvas.liverpool.ac.uk/courses/71993/gradebook/speed_grader?assignment_id=261378&student_id=78993\n",
      "Are, Amaal\n"
     ]
    },
    {
     "name": "stderr",
     "output_type": "stream",
     "text": [
      "  8%|▊         | 34/425 [01:24<15:06,  2.32s/it]"
     ]
    },
    {
     "name": "stdout",
     "output_type": "stream",
     "text": [
      "{'sortable_name': 'Are, Amaal', 'score': 15.0, 'annotations': [], 'submission_comments': []}\n",
      "https://canvas.liverpool.ac.uk/courses/71993/gradebook/speed_grader?assignment_id=261378&student_id=85225\n",
      "Harrison, Libby\n"
     ]
    },
    {
     "name": "stderr",
     "output_type": "stream",
     "text": [
      " 14%|█▍        | 61/425 [02:05<11:20,  1.87s/it]"
     ]
    },
    {
     "name": "stdout",
     "output_type": "stream",
     "text": [
      "{'sortable_name': 'Harrison, Libby', 'score': 44.0, 'annotations': [], 'submission_comments': []}\n",
      "https://canvas.liverpool.ac.uk/courses/71993/gradebook/speed_grader?assignment_id=261378&student_id=90943\n",
      "Palma Rubio, Nicoll\n"
     ]
    },
    {
     "name": "stderr",
     "output_type": "stream",
     "text": [
      " 19%|█▉        | 82/425 [02:45<10:50,  1.90s/it]"
     ]
    },
    {
     "name": "stdout",
     "output_type": "stream",
     "text": [
      "{'sortable_name': 'Palma Rubio, Nicoll', 'score': 36.0, 'annotations': [], 'submission_comments': []}\n",
      "https://canvas.liverpool.ac.uk/courses/71993/gradebook/speed_grader?assignment_id=261378&student_id=104831\n",
      "Baston, Matthew\n"
     ]
    },
    {
     "name": "stderr",
     "output_type": "stream",
     "text": [
      " 31%|███       | 131/425 [03:26<06:21,  1.30s/it]"
     ]
    },
    {
     "name": "stdout",
     "output_type": "stream",
     "text": [
      "{'sortable_name': 'Baston, Matthew', 'score': 37.0, 'annotations': [], 'submission_comments': []}\n",
      "https://canvas.liverpool.ac.uk/courses/71993/gradebook/speed_grader?assignment_id=261378&student_id=105774\n",
      "Griffiths, Harry\n"
     ]
    },
    {
     "name": "stderr",
     "output_type": "stream",
     "text": [
      " 38%|███▊      | 161/425 [04:08<05:50,  1.33s/it]"
     ]
    },
    {
     "name": "stdout",
     "output_type": "stream",
     "text": [
      "{'sortable_name': 'Griffiths, Harry', 'score': 31.0, 'annotations': [], 'submission_comments': []}\n",
      "https://canvas.liverpool.ac.uk/courses/71993/gradebook/speed_grader?assignment_id=261378&student_id=105831\n",
      "Adegoke, Nat\n"
     ]
    },
    {
     "name": "stderr",
     "output_type": "stream",
     "text": [
      " 38%|███▊      | 163/425 [04:48<08:16,  1.89s/it]"
     ]
    },
    {
     "name": "stdout",
     "output_type": "stream",
     "text": [
      "{'sortable_name': 'Adegoke, Nat', 'score': 18.0, 'annotations': [], 'submission_comments': []}\n",
      "https://canvas.liverpool.ac.uk/courses/71993/gradebook/speed_grader?assignment_id=261378&student_id=110935\n",
      "Ellis, River\n"
     ]
    },
    {
     "name": "stderr",
     "output_type": "stream",
     "text": [
      " 46%|████▌     | 196/425 [05:28<06:10,  1.62s/it]"
     ]
    },
    {
     "name": "stdout",
     "output_type": "stream",
     "text": [
      "{'sortable_name': 'Ellis, River', 'score': 37.0, 'annotations': [], 'submission_comments': []}\n",
      "https://canvas.liverpool.ac.uk/courses/71993/gradebook/speed_grader?assignment_id=261378&student_id=111095\n",
      "Traore, Michelt\n"
     ]
    },
    {
     "name": "stderr",
     "output_type": "stream",
     "text": [
      " 48%|████▊     | 206/425 [06:08<07:14,  1.98s/it]"
     ]
    },
    {
     "name": "stdout",
     "output_type": "stream",
     "text": [
      "{'sortable_name': 'Traore, Michelt', 'score': 18.0, 'annotations': [], 'submission_comments': []}\n",
      "https://canvas.liverpool.ac.uk/courses/71993/gradebook/speed_grader?assignment_id=261378&student_id=111701\n",
      "Belnavis, Ethan\n"
     ]
    },
    {
     "name": "stderr",
     "output_type": "stream",
     "text": [
      " 55%|█████▍    | 233/425 [06:48<05:45,  1.80s/it]"
     ]
    },
    {
     "name": "stdout",
     "output_type": "stream",
     "text": [
      "{'sortable_name': 'Belnavis, Ethan', 'score': 36.0, 'annotations': [], 'submission_comments': []}\n",
      "https://canvas.liverpool.ac.uk/courses/71993/gradebook/speed_grader?assignment_id=261378&student_id=111851\n",
      "Dickson, Max\n"
     ]
    },
    {
     "name": "stderr",
     "output_type": "stream",
     "text": [
      " 56%|█████▋    | 240/425 [07:29<07:00,  2.27s/it]"
     ]
    },
    {
     "name": "stdout",
     "output_type": "stream",
     "text": [
      "{'sortable_name': 'Dickson, Max', 'score': 37.0, 'annotations': [], 'submission_comments': []}\n",
      "https://canvas.liverpool.ac.uk/courses/71993/gradebook/speed_grader?assignment_id=261378&student_id=111918\n",
      "Panebianco, Stefano\n"
     ]
    },
    {
     "name": "stderr",
     "output_type": "stream",
     "text": [
      " 57%|█████▋    | 243/425 [08:09<09:14,  3.04s/it]"
     ]
    },
    {
     "name": "stdout",
     "output_type": "stream",
     "text": [
      "{'sortable_name': 'Panebianco, Stefano', 'score': 29.0, 'annotations': [], 'submission_comments': []}\n",
      "https://canvas.liverpool.ac.uk/courses/71993/gradebook/speed_grader?assignment_id=261378&student_id=111922\n",
      "Ngombe, Dom\n"
     ]
    },
    {
     "name": "stderr",
     "output_type": "stream",
     "text": [
      " 57%|█████▋    | 244/425 [08:49<12:45,  4.23s/it]"
     ]
    },
    {
     "name": "stdout",
     "output_type": "stream",
     "text": [
      "{'sortable_name': 'Ngombe, Dom', 'score': 33.0, 'annotations': [], 'submission_comments': []}\n",
      "https://canvas.liverpool.ac.uk/courses/71993/gradebook/speed_grader?assignment_id=261378&student_id=112038\n",
      "Albon, Jess\n"
     ]
    },
    {
     "name": "stderr",
     "output_type": "stream",
     "text": [
      " 59%|█████▉    | 250/425 [09:32<14:05,  4.83s/it]"
     ]
    },
    {
     "name": "stdout",
     "output_type": "stream",
     "text": [
      "{'sortable_name': 'Albon, Jess', 'score': 15.0, 'annotations': [], 'submission_comments': []}\n",
      "https://canvas.liverpool.ac.uk/courses/71993/gradebook/speed_grader?assignment_id=261378&student_id=112048\n",
      "Nicholson, Emma\n"
     ]
    },
    {
     "name": "stderr",
     "output_type": "stream",
     "text": [
      " 59%|█████▉    | 251/425 [10:14<19:16,  6.65s/it]"
     ]
    },
    {
     "name": "stdout",
     "output_type": "stream",
     "text": [
      "{'sortable_name': 'Nicholson, Emma', 'score': 21.0, 'annotations': [], 'submission_comments': []}\n",
      "https://canvas.liverpool.ac.uk/courses/71993/gradebook/speed_grader?assignment_id=261378&student_id=114468\n",
      "Bleakley, Nuala\n"
     ]
    },
    {
     "name": "stderr",
     "output_type": "stream",
     "text": [
      " 85%|████████▍ | 360/425 [10:54<01:11,  1.10s/it]"
     ]
    },
    {
     "name": "stdout",
     "output_type": "stream",
     "text": [
      "{'sortable_name': 'Bleakley, Nuala', 'score': 41.0, 'annotations': [], 'submission_comments': []}\n",
      "https://canvas.liverpool.ac.uk/courses/71993/gradebook/speed_grader?assignment_id=261378&student_id=114679\n",
      "Khan, Amy\n"
     ]
    },
    {
     "name": "stderr",
     "output_type": "stream",
     "text": [
      " 86%|████████▌ | 365/425 [11:34<01:29,  1.48s/it]"
     ]
    },
    {
     "name": "stdout",
     "output_type": "stream",
     "text": [
      "{'sortable_name': 'Khan, Amy', 'score': 48.0, 'annotations': [], 'submission_comments': []}\n",
      "https://canvas.liverpool.ac.uk/courses/71993/gradebook/speed_grader?assignment_id=261378&student_id=143863\n",
      "Yao, Jintian\n"
     ]
    },
    {
     "name": "stderr",
     "output_type": "stream",
     "text": [
      " 99%|█████████▉| 420/425 [12:15<00:05,  1.14s/it]"
     ]
    },
    {
     "name": "stdout",
     "output_type": "stream",
     "text": [
      "{'sortable_name': 'Yao, Jintian', 'score': 22.0, 'annotations': [], 'submission_comments': []}\n",
      "https://canvas.liverpool.ac.uk/courses/71993/gradebook/speed_grader?assignment_id=261378&student_id=147948\n",
      "student, Test\n"
     ]
    },
    {
     "name": "stderr",
     "output_type": "stream",
     "text": [
      "100%|██████████| 425/425 [12:41<00:00,  1.79s/it]"
     ]
    },
    {
     "name": "stdout",
     "output_type": "stream",
     "text": [
      "{'sortable_name': 'student, Test', 'score': 0.0, 'annotations': [], 'submission_comments': []}\n"
     ]
    },
    {
     "name": "stderr",
     "output_type": "stream",
     "text": [
      "\n"
     ]
    }
   ],
   "source": [
    "from tqdm import tqdm\n",
    "# Loop through submissions and get comments\n",
    "with open(\"output.pkl\", \"rb\") as f:\n",
    "    data = pickle.load(f)\n",
    "\n",
    "comments = []\n",
    "\n",
    "for submission, url in tqdm(zip(submissions[2:3], urls[2:3]), total=len(submissions[2:])):\n",
    "    if submission.user_id in data:\n",
    "        continue\n",
    "        #print(url)\n",
    "        #print(data[submission.user_id])\n",
    "        #print(f\"Skipping {submission.user['sortable_name']}\")\n",
    "    else:\n",
    "        session.browser.get(url)\n",
    "        print(session.browser.current_url)\n",
    "        print(submission.user['sortable_name'])\n",
    "        wait = 0\n",
    "        while True:\n",
    "            try:\n",
    "                session.browser.switch_to.frame('speedgrader_iframe')\n",
    "                time.sleep(15)\n",
    "                comments = get_comments(session)\n",
    "                session.browser.switch_to.default_content()\n",
    "                break\n",
    "            except:\n",
    "                if wait > 20:\n",
    "                    comments = []\n",
    "                    break\n",
    "                else:\n",
    "                    time.sleep(2)\n",
    "                    wait += 2\n",
    "                    continue\n",
    "\n",
    "        try:\n",
    "            submission_comments = [x.comment for x in submission.submission_comments]\n",
    "        except:\n",
    "            submission_comments = []\n",
    "\n",
    "        data[submission.user_id] = {\n",
    "            \"sortable_name\": submission.user[\"sortable_name\"],\n",
    "            \"score\": submission.score,\n",
    "            \"annotations\": comments,\n",
    "            \"submission_comments\": submission_comments\n",
    "        }\n",
    "        print(data[submission.user_id])\n"
   ]
  },
  {
   "cell_type": "code",
   "execution_count": 88,
   "metadata": {},
   "outputs": [],
   "source": [
    "# read the output.pkl file\n",
    "with open('output.pkl', 'rb') as f:\n",
    "    data = pickle.load(f)"
   ]
  },
  {
   "cell_type": "code",
   "execution_count": 89,
   "metadata": {},
   "outputs": [
    {
     "data": {
      "text/plain": [
       "{7523: {'sortable_name': 'Campbell, David',\n",
       "  'score': 11.0,\n",
       "  'annotations': [{'author': 'Sophie Lyth',\n",
       "    'comment': '0/5',\n",
       "    'type': 'annotation'},\n",
       "   {'author': 'Sophie Lyth', 'comment': '0/5', 'type': 'annotation'},\n",
       "   {'author': 'Sophie Lyth', 'comment': '2/5', 'type': 'annotation'},\n",
       "   {'author': 'Sophie Lyth', 'comment': '1/5', 'type': 'annotation'},\n",
       "   {'author': 'Sophie Lyth', 'comment': '2/5', 'type': 'annotation'},\n",
       "   {'author': 'Sophie Lyth', 'comment': '1/4', 'type': 'annotation'},\n",
       "   {'author': 'Sophie Lyth', 'comment': '2/10', 'type': 'annotation'},\n",
       "   {'author': 'Sophie Lyth', 'comment': '2/4', 'type': 'annotation'},\n",
       "   {'author': 'Sophie Lyth', 'comment': '1/6', 'type': 'annotation'}],\n",
       "  'submission_comments': []},\n",
       " 9658: {'sortable_name': 'Cleary, Jack',\n",
       "  'score': 30.0,\n",
       "  'annotations': [{'author': 'Sophie Lyth',\n",
       "    'comment': '4/5',\n",
       "    'type': 'annotation'},\n",
       "   {'author': 'Sophie Lyth', 'comment': '4/5', 'type': 'annotation'},\n",
       "   {'author': 'Sophie Lyth', 'comment': '5/5', 'type': 'annotation'},\n",
       "   {'author': 'Sophie Lyth', 'comment': '3/5', 'type': 'annotation'},\n",
       "   {'author': 'Sophie Lyth', 'comment': '3/5', 'type': 'annotation'},\n",
       "   {'author': 'Sophie Lyth', 'comment': '1/10', 'type': 'annotation'},\n",
       "   {'author': 'Sophie Lyth', 'comment': '2/4', 'type': 'annotation'},\n",
       "   {'author': 'Sophie Lyth', 'comment': '2/3', 'type': 'annotation'},\n",
       "   {'author': 'Sophie Lyth', 'comment': '3/4', 'type': 'annotation'},\n",
       "   {'author': 'Sophie Lyth', 'comment': '3/6', 'type': 'annotation'},\n",
       "   {'author': 'Sophie Lyth', 'comment': '0/4', 'type': 'annotation'},\n",
       "   {'author': 'Sophie Lyth', 'comment': '0/6', 'type': 'annotation'}],\n",
       "  'submission_comments': []},\n",
       " 15376: {'sortable_name': 'Gawthorpe, Anson',\n",
       "  'score': 44.0,\n",
       "  'annotations': [{'author': 'Sophie Lyth',\n",
       "    'comment': '0/5',\n",
       "    'type': 'annotation'},\n",
       "   {'author': 'Sophie Lyth', 'comment': '4/5', 'type': 'annotation'},\n",
       "   {'author': 'Sophie Lyth', 'comment': '4/5', 'type': 'annotation'},\n",
       "   {'author': 'Sophie Lyth', 'comment': '5/5', 'type': 'annotation'},\n",
       "   {'author': 'Sophie Lyth', 'comment': '3/5', 'type': 'annotation'},\n",
       "   {'author': 'Sophie Lyth', 'comment': '4/4', 'type': 'annotation'},\n",
       "   {'author': 'Sophie Lyth', 'comment': '7/10', 'type': 'annotation'},\n",
       "   {'author': 'Sophie Lyth', 'comment': '2/3', 'type': 'annotation'},\n",
       "   {'author': 'Sophie Lyth', 'comment': '4/4', 'type': 'annotation'},\n",
       "   {'author': 'Sophie Lyth', 'comment': '4/6', 'type': 'annotation'},\n",
       "   {'author': 'Sophie Lyth', 'comment': '3/6', 'type': 'annotation'},\n",
       "   {'author': 'Sophie Lyth', 'comment': '4/4', 'type': 'annotation'}],\n",
       "  'submission_comments': []},\n",
       " 17787: {'sortable_name': 'Harrison, Emilie',\n",
       "  'score': None,\n",
       "  'annotations': [],\n",
       "  'submission_comments': []},\n",
       " 24546: {'sortable_name': 'Lamb, Connor',\n",
       "  'score': 26.0,\n",
       "  'annotations': [{'author': 'Anders Jensen',\n",
       "    'comment': '2/5',\n",
       "    'type': 'annotation'},\n",
       "   {'author': 'Anders Jensen', 'comment': '3/5', 'type': 'annotation'},\n",
       "   {'author': 'Anders Jensen', 'comment': '2/5', 'type': 'annotation'},\n",
       "   {'author': 'Anders Jensen', 'comment': '0/5', 'type': 'annotation'},\n",
       "   {'author': 'Anders Jensen', 'comment': '5/5', 'type': 'annotation'},\n",
       "   {'author': 'Anders Jensen', 'comment': '4/10', 'type': 'annotation'},\n",
       "   {'author': 'Anders Jensen', 'comment': '2/4', 'type': 'annotation'},\n",
       "   {'author': 'Anders Jensen', 'comment': '2/4', 'type': 'annotation'},\n",
       "   {'author': 'Anders Jensen', 'comment': '1/4', 'type': 'annotation'},\n",
       "   {'author': 'Anders Jensen', 'comment': '0/6', 'type': 'annotation'},\n",
       "   {'author': 'Anders Jensen', 'comment': '2/3', 'type': 'annotation'},\n",
       "   {'author': 'Anders Jensen', 'comment': '3/6', 'type': 'annotation'}],\n",
       "  'submission_comments': []},\n",
       " 28396: {'sortable_name': 'Mallett, Charlotte',\n",
       "  'score': 28.0,\n",
       "  'annotations': [{'author': 'Sophie Lyth',\n",
       "    'comment': '0/5',\n",
       "    'type': 'annotation'},\n",
       "   {'author': 'Sophie Lyth', 'comment': '0/5', 'type': 'annotation'},\n",
       "   {'author': 'Sophie Lyth', 'comment': '2/5', 'type': 'annotation'},\n",
       "   {'author': 'Sophie Lyth', 'comment': '3/5', 'type': 'annotation'},\n",
       "   {'author': 'Sophie Lyth', 'comment': '0/5', 'type': 'annotation'},\n",
       "   {'author': 'Sophie Lyth', 'comment': '4/4', 'type': 'annotation'},\n",
       "   {'author': 'Sophie Lyth', 'comment': '1/10', 'type': 'annotation'},\n",
       "   {'author': 'Sophie Lyth', 'comment': '4/4', 'type': 'annotation'},\n",
       "   {'author': 'Sophie Lyth', 'comment': '0/3', 'type': 'annotation'},\n",
       "   {'author': 'Sophie Lyth', 'comment': '4/4', 'type': 'annotation'},\n",
       "   {'author': 'Sophie Lyth', 'comment': '4/6', 'type': 'annotation'},\n",
       "   {'author': 'Sophie Lyth', 'comment': '6/6', 'type': 'annotation'}],\n",
       "  'submission_comments': []},\n",
       " 29614: {'sortable_name': 'Mehegan, Anna',\n",
       "  'score': 47.0,\n",
       "  'annotations': [{'author': 'Sophie Lyth',\n",
       "    'comment': '4/5',\n",
       "    'type': 'annotation'},\n",
       "   {'author': 'Sophie Lyth', 'comment': '5/5', 'type': 'annotation'},\n",
       "   {'author': 'Sophie Lyth', 'comment': '3/5', 'type': 'annotation'},\n",
       "   {'author': 'Sophie Lyth', 'comment': '5/5', 'type': 'annotation'},\n",
       "   {'author': 'Sophie Lyth', 'comment': '5/5', 'type': 'annotation'},\n",
       "   {'author': 'Sophie Lyth', 'comment': '3/4', 'type': 'annotation'},\n",
       "   {'author': 'Sophie Lyth', 'comment': '6/10', 'type': 'annotation'},\n",
       "   {'author': 'Sophie Lyth', 'comment': '0/3', 'type': 'annotation'},\n",
       "   {'author': 'Sophie Lyth', 'comment': '4/6', 'type': 'annotation'},\n",
       "   {'author': 'Sophie Lyth', 'comment': '3/4', 'type': 'annotation'},\n",
       "   {'author': 'Sophie Lyth', 'comment': '4/4', 'type': 'annotation'},\n",
       "   {'author': 'Sophie Lyth', 'comment': '5/6', 'type': 'annotation'}],\n",
       "  'submission_comments': []},\n",
       " 34362: {'sortable_name': 'Peake, courtney',\n",
       "  'score': None,\n",
       "  'annotations': [],\n",
       "  'submission_comments': []}}"
      ]
     },
     "execution_count": 89,
     "metadata": {},
     "output_type": "execute_result"
    }
   ],
   "source": [
    "data"
   ]
  },
  {
   "cell_type": "code",
   "execution_count": 91,
   "metadata": {},
   "outputs": [
    {
     "name": "stdout",
     "output_type": "stream",
     "text": [
      "{'author': 'Sophie Lyth', 'comment': '4/5', 'type': 'annotation'}\n",
      "{'author': 'Sophie Lyth', 'comment': '4/5', 'type': 'annotation'}\n",
      "{'author': 'Sophie Lyth', 'comment': '5/5', 'type': 'annotation'}\n",
      "{'author': 'Sophie Lyth', 'comment': '3/5', 'type': 'annotation'}\n",
      "{'author': 'Sophie Lyth', 'comment': '3/5', 'type': 'annotation'}\n",
      "{'author': 'Sophie Lyth', 'comment': '1/10', 'type': 'annotation'}\n",
      "{'author': 'Sophie Lyth', 'comment': '2/4', 'type': 'annotation'}\n",
      "{'author': 'Sophie Lyth', 'comment': '2/3', 'type': 'annotation'}\n",
      "{'author': 'Sophie Lyth', 'comment': '3/4', 'type': 'annotation'}\n",
      "{'author': 'Sophie Lyth', 'comment': '3/6', 'type': 'annotation'}\n",
      "{'author': 'Sophie Lyth', 'comment': '0/4', 'type': 'annotation'}\n",
      "{'author': 'Sophie Lyth', 'comment': '0/6', 'type': 'annotation'}\n"
     ]
    }
   ],
   "source": [
    "url = session.browser.get(\"https://canvas.liverpool.ac.uk/courses/71993/gradebook/speed_grader?assignment_id=261378&student_id=9658\")\n",
    "time.sleep(10)\n",
    "session.browser.switch_to.frame('speedgrader_iframe')\n",
    "time.sleep(10)\n",
    "comments = get_comments(session)\n",
    "for comment in comments:\n",
    "    print(comment)\n",
    "session.browser.switch_to.default_content()"
   ]
  },
  {
   "cell_type": "code",
   "execution_count": null,
   "metadata": {},
   "outputs": [],
   "source": []
  }
 ],
 "metadata": {
  "kernelspec": {
   "display_name": "Python 3",
   "language": "python",
   "name": "python3"
  },
  "language_info": {
   "codemirror_mode": {
    "name": "ipython",
    "version": 3
   },
   "file_extension": ".py",
   "mimetype": "text/x-python",
   "name": "python",
   "nbconvert_exporter": "python",
   "pygments_lexer": "ipython3",
   "version": "3.12.0"
  }
 },
 "nbformat": 4,
 "nbformat_minor": 2
}
